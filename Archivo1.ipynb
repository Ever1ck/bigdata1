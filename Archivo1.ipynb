{
  "nbformat": 4,
  "nbformat_minor": 0,
  "metadata": {
    "colab": {
      "provenance": [],
      "authorship_tag": "ABX9TyP0JLQr30ts4CiGwZd+muw5",
      "include_colab_link": true
    },
    "kernelspec": {
      "name": "python3",
      "display_name": "Python 3"
    },
    "language_info": {
      "name": "python"
    }
  },
  "cells": [
    {
      "cell_type": "markdown",
      "metadata": {
        "id": "view-in-github",
        "colab_type": "text"
      },
      "source": [
        "<a href=\"https://colab.research.google.com/github/Ever1ck/bigdata1/blob/main/Archivo1.ipynb\" target=\"_parent\"><img src=\"https://colab.research.google.com/assets/colab-badge.svg\" alt=\"Open In Colab\"/></a>"
      ]
    },
    {
      "cell_type": "markdown",
      "source": [
        "**Ejercicio 1 - Carga de un archivo csv Desde Drive"
      ],
      "metadata": {
        "id": "hwZai5X2s-u-"
      }
    },
    {
      "cell_type": "code",
      "source": [
        "import pandas as pd"
      ],
      "metadata": {
        "id": "xyfamMGatD-T"
      },
      "execution_count": 1,
      "outputs": []
    },
    {
      "cell_type": "code",
      "source": [
        "data = pd.read_csv(\"https://docs.google.com/spreadsheets/d/e/2PACX-1vQegf2xJOBI1dqiauOLkAcXncq8aERT1s2d6-k0RWcqfcC3_eZ0gsOxsh1JtohXOkf1DN8Vbvs4jZ_Y/pub?gid=823927514&single=true&output=csv\")"
      ],
      "metadata": {
        "id": "VJb9b6iDtMcT"
      },
      "execution_count": 2,
      "outputs": []
    },
    {
      "cell_type": "code",
      "source": [
        "data"
      ],
      "metadata": {
        "colab": {
          "base_uri": "https://localhost:8080/",
          "height": 770
        },
        "id": "KcVjpq2BuAH1",
        "outputId": "0d9bc5b1-dd66-49aa-de18-086a015a7cbd"
      },
      "execution_count": 3,
      "outputs": [
        {
          "output_type": "execute_result",
          "data": {
            "text/plain": [
              "       nombre  edad    ciudad  ingresos\n",
              "0        Juan    30      Lima      2500\n",
              "1       María    28  Arequipa      3800\n",
              "2        Luis    35     Cusco      4800\n",
              "3         Ana    22  Trujillo      2000\n",
              "4       Pedro    28  Arequipa      3200\n",
              "5      Leonel    64   Juliaca      4980\n",
              "6       Laura    31      Lima      4200\n",
              "7      Carlos    25     Cusco      1800\n",
              "8       Sofía    29  Trujillo      2900\n",
              "9      Andrés    27      Lima      2600\n",
              "10   Gabriela    33  Arequipa      4000\n",
              "11    Micaela    21   Juliaca      5000\n",
              "12      Diego    24     Cusco      3200\n",
              "13  Valentina    26  Trujillo      3500\n",
              "14     Lorena    30      Lima      3800\n",
              "15     Javier    32  Arequipa      5000\n",
              "16    Daniela    29      Lima      2700\n",
              "17     Manuel    31  Trujillo      2700\n",
              "18   Fernanda    28     Cusco      2100\n",
              "19    Ricardo    35      Lima      4400\n",
              "20      Lucía    23  Trujillo      1500\n",
              "21       José    34  Arequipa      4200\n",
              "22      Willy    55      Puno      1300"
            ],
            "text/html": [
              "\n",
              "  <div id=\"df-2bef9b0d-67b7-4812-83ca-4ad84ebdcd6a\" class=\"colab-df-container\">\n",
              "    <div>\n",
              "<style scoped>\n",
              "    .dataframe tbody tr th:only-of-type {\n",
              "        vertical-align: middle;\n",
              "    }\n",
              "\n",
              "    .dataframe tbody tr th {\n",
              "        vertical-align: top;\n",
              "    }\n",
              "\n",
              "    .dataframe thead th {\n",
              "        text-align: right;\n",
              "    }\n",
              "</style>\n",
              "<table border=\"1\" class=\"dataframe\">\n",
              "  <thead>\n",
              "    <tr style=\"text-align: right;\">\n",
              "      <th></th>\n",
              "      <th>nombre</th>\n",
              "      <th>edad</th>\n",
              "      <th>ciudad</th>\n",
              "      <th>ingresos</th>\n",
              "    </tr>\n",
              "  </thead>\n",
              "  <tbody>\n",
              "    <tr>\n",
              "      <th>0</th>\n",
              "      <td>Juan</td>\n",
              "      <td>30</td>\n",
              "      <td>Lima</td>\n",
              "      <td>2500</td>\n",
              "    </tr>\n",
              "    <tr>\n",
              "      <th>1</th>\n",
              "      <td>María</td>\n",
              "      <td>28</td>\n",
              "      <td>Arequipa</td>\n",
              "      <td>3800</td>\n",
              "    </tr>\n",
              "    <tr>\n",
              "      <th>2</th>\n",
              "      <td>Luis</td>\n",
              "      <td>35</td>\n",
              "      <td>Cusco</td>\n",
              "      <td>4800</td>\n",
              "    </tr>\n",
              "    <tr>\n",
              "      <th>3</th>\n",
              "      <td>Ana</td>\n",
              "      <td>22</td>\n",
              "      <td>Trujillo</td>\n",
              "      <td>2000</td>\n",
              "    </tr>\n",
              "    <tr>\n",
              "      <th>4</th>\n",
              "      <td>Pedro</td>\n",
              "      <td>28</td>\n",
              "      <td>Arequipa</td>\n",
              "      <td>3200</td>\n",
              "    </tr>\n",
              "    <tr>\n",
              "      <th>5</th>\n",
              "      <td>Leonel</td>\n",
              "      <td>64</td>\n",
              "      <td>Juliaca</td>\n",
              "      <td>4980</td>\n",
              "    </tr>\n",
              "    <tr>\n",
              "      <th>6</th>\n",
              "      <td>Laura</td>\n",
              "      <td>31</td>\n",
              "      <td>Lima</td>\n",
              "      <td>4200</td>\n",
              "    </tr>\n",
              "    <tr>\n",
              "      <th>7</th>\n",
              "      <td>Carlos</td>\n",
              "      <td>25</td>\n",
              "      <td>Cusco</td>\n",
              "      <td>1800</td>\n",
              "    </tr>\n",
              "    <tr>\n",
              "      <th>8</th>\n",
              "      <td>Sofía</td>\n",
              "      <td>29</td>\n",
              "      <td>Trujillo</td>\n",
              "      <td>2900</td>\n",
              "    </tr>\n",
              "    <tr>\n",
              "      <th>9</th>\n",
              "      <td>Andrés</td>\n",
              "      <td>27</td>\n",
              "      <td>Lima</td>\n",
              "      <td>2600</td>\n",
              "    </tr>\n",
              "    <tr>\n",
              "      <th>10</th>\n",
              "      <td>Gabriela</td>\n",
              "      <td>33</td>\n",
              "      <td>Arequipa</td>\n",
              "      <td>4000</td>\n",
              "    </tr>\n",
              "    <tr>\n",
              "      <th>11</th>\n",
              "      <td>Micaela</td>\n",
              "      <td>21</td>\n",
              "      <td>Juliaca</td>\n",
              "      <td>5000</td>\n",
              "    </tr>\n",
              "    <tr>\n",
              "      <th>12</th>\n",
              "      <td>Diego</td>\n",
              "      <td>24</td>\n",
              "      <td>Cusco</td>\n",
              "      <td>3200</td>\n",
              "    </tr>\n",
              "    <tr>\n",
              "      <th>13</th>\n",
              "      <td>Valentina</td>\n",
              "      <td>26</td>\n",
              "      <td>Trujillo</td>\n",
              "      <td>3500</td>\n",
              "    </tr>\n",
              "    <tr>\n",
              "      <th>14</th>\n",
              "      <td>Lorena</td>\n",
              "      <td>30</td>\n",
              "      <td>Lima</td>\n",
              "      <td>3800</td>\n",
              "    </tr>\n",
              "    <tr>\n",
              "      <th>15</th>\n",
              "      <td>Javier</td>\n",
              "      <td>32</td>\n",
              "      <td>Arequipa</td>\n",
              "      <td>5000</td>\n",
              "    </tr>\n",
              "    <tr>\n",
              "      <th>16</th>\n",
              "      <td>Daniela</td>\n",
              "      <td>29</td>\n",
              "      <td>Lima</td>\n",
              "      <td>2700</td>\n",
              "    </tr>\n",
              "    <tr>\n",
              "      <th>17</th>\n",
              "      <td>Manuel</td>\n",
              "      <td>31</td>\n",
              "      <td>Trujillo</td>\n",
              "      <td>2700</td>\n",
              "    </tr>\n",
              "    <tr>\n",
              "      <th>18</th>\n",
              "      <td>Fernanda</td>\n",
              "      <td>28</td>\n",
              "      <td>Cusco</td>\n",
              "      <td>2100</td>\n",
              "    </tr>\n",
              "    <tr>\n",
              "      <th>19</th>\n",
              "      <td>Ricardo</td>\n",
              "      <td>35</td>\n",
              "      <td>Lima</td>\n",
              "      <td>4400</td>\n",
              "    </tr>\n",
              "    <tr>\n",
              "      <th>20</th>\n",
              "      <td>Lucía</td>\n",
              "      <td>23</td>\n",
              "      <td>Trujillo</td>\n",
              "      <td>1500</td>\n",
              "    </tr>\n",
              "    <tr>\n",
              "      <th>21</th>\n",
              "      <td>José</td>\n",
              "      <td>34</td>\n",
              "      <td>Arequipa</td>\n",
              "      <td>4200</td>\n",
              "    </tr>\n",
              "    <tr>\n",
              "      <th>22</th>\n",
              "      <td>Willy</td>\n",
              "      <td>55</td>\n",
              "      <td>Puno</td>\n",
              "      <td>1300</td>\n",
              "    </tr>\n",
              "  </tbody>\n",
              "</table>\n",
              "</div>\n",
              "    <div class=\"colab-df-buttons\">\n",
              "\n",
              "  <div class=\"colab-df-container\">\n",
              "    <button class=\"colab-df-convert\" onclick=\"convertToInteractive('df-2bef9b0d-67b7-4812-83ca-4ad84ebdcd6a')\"\n",
              "            title=\"Convert this dataframe to an interactive table.\"\n",
              "            style=\"display:none;\">\n",
              "\n",
              "  <svg xmlns=\"http://www.w3.org/2000/svg\" height=\"24px\" viewBox=\"0 -960 960 960\">\n",
              "    <path d=\"M120-120v-720h720v720H120Zm60-500h600v-160H180v160Zm220 220h160v-160H400v160Zm0 220h160v-160H400v160ZM180-400h160v-160H180v160Zm440 0h160v-160H620v160ZM180-180h160v-160H180v160Zm440 0h160v-160H620v160Z\"/>\n",
              "  </svg>\n",
              "    </button>\n",
              "\n",
              "  <style>\n",
              "    .colab-df-container {\n",
              "      display:flex;\n",
              "      gap: 12px;\n",
              "    }\n",
              "\n",
              "    .colab-df-convert {\n",
              "      background-color: #E8F0FE;\n",
              "      border: none;\n",
              "      border-radius: 50%;\n",
              "      cursor: pointer;\n",
              "      display: none;\n",
              "      fill: #1967D2;\n",
              "      height: 32px;\n",
              "      padding: 0 0 0 0;\n",
              "      width: 32px;\n",
              "    }\n",
              "\n",
              "    .colab-df-convert:hover {\n",
              "      background-color: #E2EBFA;\n",
              "      box-shadow: 0px 1px 2px rgba(60, 64, 67, 0.3), 0px 1px 3px 1px rgba(60, 64, 67, 0.15);\n",
              "      fill: #174EA6;\n",
              "    }\n",
              "\n",
              "    .colab-df-buttons div {\n",
              "      margin-bottom: 4px;\n",
              "    }\n",
              "\n",
              "    [theme=dark] .colab-df-convert {\n",
              "      background-color: #3B4455;\n",
              "      fill: #D2E3FC;\n",
              "    }\n",
              "\n",
              "    [theme=dark] .colab-df-convert:hover {\n",
              "      background-color: #434B5C;\n",
              "      box-shadow: 0px 1px 3px 1px rgba(0, 0, 0, 0.15);\n",
              "      filter: drop-shadow(0px 1px 2px rgba(0, 0, 0, 0.3));\n",
              "      fill: #FFFFFF;\n",
              "    }\n",
              "  </style>\n",
              "\n",
              "    <script>\n",
              "      const buttonEl =\n",
              "        document.querySelector('#df-2bef9b0d-67b7-4812-83ca-4ad84ebdcd6a button.colab-df-convert');\n",
              "      buttonEl.style.display =\n",
              "        google.colab.kernel.accessAllowed ? 'block' : 'none';\n",
              "\n",
              "      async function convertToInteractive(key) {\n",
              "        const element = document.querySelector('#df-2bef9b0d-67b7-4812-83ca-4ad84ebdcd6a');\n",
              "        const dataTable =\n",
              "          await google.colab.kernel.invokeFunction('convertToInteractive',\n",
              "                                                    [key], {});\n",
              "        if (!dataTable) return;\n",
              "\n",
              "        const docLinkHtml = 'Like what you see? Visit the ' +\n",
              "          '<a target=\"_blank\" href=https://colab.research.google.com/notebooks/data_table.ipynb>data table notebook</a>'\n",
              "          + ' to learn more about interactive tables.';\n",
              "        element.innerHTML = '';\n",
              "        dataTable['output_type'] = 'display_data';\n",
              "        await google.colab.output.renderOutput(dataTable, element);\n",
              "        const docLink = document.createElement('div');\n",
              "        docLink.innerHTML = docLinkHtml;\n",
              "        element.appendChild(docLink);\n",
              "      }\n",
              "    </script>\n",
              "  </div>\n",
              "\n",
              "\n",
              "<div id=\"df-936b7597-8ad3-4529-ac71-79df1379ea59\">\n",
              "  <button class=\"colab-df-quickchart\" onclick=\"quickchart('df-936b7597-8ad3-4529-ac71-79df1379ea59')\"\n",
              "            title=\"Suggest charts\"\n",
              "            style=\"display:none;\">\n",
              "\n",
              "<svg xmlns=\"http://www.w3.org/2000/svg\" height=\"24px\"viewBox=\"0 0 24 24\"\n",
              "     width=\"24px\">\n",
              "    <g>\n",
              "        <path d=\"M19 3H5c-1.1 0-2 .9-2 2v14c0 1.1.9 2 2 2h14c1.1 0 2-.9 2-2V5c0-1.1-.9-2-2-2zM9 17H7v-7h2v7zm4 0h-2V7h2v10zm4 0h-2v-4h2v4z\"/>\n",
              "    </g>\n",
              "</svg>\n",
              "  </button>\n",
              "\n",
              "<style>\n",
              "  .colab-df-quickchart {\n",
              "      --bg-color: #E8F0FE;\n",
              "      --fill-color: #1967D2;\n",
              "      --hover-bg-color: #E2EBFA;\n",
              "      --hover-fill-color: #174EA6;\n",
              "      --disabled-fill-color: #AAA;\n",
              "      --disabled-bg-color: #DDD;\n",
              "  }\n",
              "\n",
              "  [theme=dark] .colab-df-quickchart {\n",
              "      --bg-color: #3B4455;\n",
              "      --fill-color: #D2E3FC;\n",
              "      --hover-bg-color: #434B5C;\n",
              "      --hover-fill-color: #FFFFFF;\n",
              "      --disabled-bg-color: #3B4455;\n",
              "      --disabled-fill-color: #666;\n",
              "  }\n",
              "\n",
              "  .colab-df-quickchart {\n",
              "    background-color: var(--bg-color);\n",
              "    border: none;\n",
              "    border-radius: 50%;\n",
              "    cursor: pointer;\n",
              "    display: none;\n",
              "    fill: var(--fill-color);\n",
              "    height: 32px;\n",
              "    padding: 0;\n",
              "    width: 32px;\n",
              "  }\n",
              "\n",
              "  .colab-df-quickchart:hover {\n",
              "    background-color: var(--hover-bg-color);\n",
              "    box-shadow: 0 1px 2px rgba(60, 64, 67, 0.3), 0 1px 3px 1px rgba(60, 64, 67, 0.15);\n",
              "    fill: var(--button-hover-fill-color);\n",
              "  }\n",
              "\n",
              "  .colab-df-quickchart-complete:disabled,\n",
              "  .colab-df-quickchart-complete:disabled:hover {\n",
              "    background-color: var(--disabled-bg-color);\n",
              "    fill: var(--disabled-fill-color);\n",
              "    box-shadow: none;\n",
              "  }\n",
              "\n",
              "  .colab-df-spinner {\n",
              "    border: 2px solid var(--fill-color);\n",
              "    border-color: transparent;\n",
              "    border-bottom-color: var(--fill-color);\n",
              "    animation:\n",
              "      spin 1s steps(1) infinite;\n",
              "  }\n",
              "\n",
              "  @keyframes spin {\n",
              "    0% {\n",
              "      border-color: transparent;\n",
              "      border-bottom-color: var(--fill-color);\n",
              "      border-left-color: var(--fill-color);\n",
              "    }\n",
              "    20% {\n",
              "      border-color: transparent;\n",
              "      border-left-color: var(--fill-color);\n",
              "      border-top-color: var(--fill-color);\n",
              "    }\n",
              "    30% {\n",
              "      border-color: transparent;\n",
              "      border-left-color: var(--fill-color);\n",
              "      border-top-color: var(--fill-color);\n",
              "      border-right-color: var(--fill-color);\n",
              "    }\n",
              "    40% {\n",
              "      border-color: transparent;\n",
              "      border-right-color: var(--fill-color);\n",
              "      border-top-color: var(--fill-color);\n",
              "    }\n",
              "    60% {\n",
              "      border-color: transparent;\n",
              "      border-right-color: var(--fill-color);\n",
              "    }\n",
              "    80% {\n",
              "      border-color: transparent;\n",
              "      border-right-color: var(--fill-color);\n",
              "      border-bottom-color: var(--fill-color);\n",
              "    }\n",
              "    90% {\n",
              "      border-color: transparent;\n",
              "      border-bottom-color: var(--fill-color);\n",
              "    }\n",
              "  }\n",
              "</style>\n",
              "\n",
              "  <script>\n",
              "    async function quickchart(key) {\n",
              "      const quickchartButtonEl =\n",
              "        document.querySelector('#' + key + ' button');\n",
              "      quickchartButtonEl.disabled = true;  // To prevent multiple clicks.\n",
              "      quickchartButtonEl.classList.add('colab-df-spinner');\n",
              "      try {\n",
              "        const charts = await google.colab.kernel.invokeFunction(\n",
              "            'suggestCharts', [key], {});\n",
              "      } catch (error) {\n",
              "        console.error('Error during call to suggestCharts:', error);\n",
              "      }\n",
              "      quickchartButtonEl.classList.remove('colab-df-spinner');\n",
              "      quickchartButtonEl.classList.add('colab-df-quickchart-complete');\n",
              "    }\n",
              "    (() => {\n",
              "      let quickchartButtonEl =\n",
              "        document.querySelector('#df-936b7597-8ad3-4529-ac71-79df1379ea59 button');\n",
              "      quickchartButtonEl.style.display =\n",
              "        google.colab.kernel.accessAllowed ? 'block' : 'none';\n",
              "    })();\n",
              "  </script>\n",
              "</div>\n",
              "\n",
              "  <div id=\"id_54bd8f32-a72d-441f-a113-c75f9f689e2c\">\n",
              "    <style>\n",
              "      .colab-df-generate {\n",
              "        background-color: #E8F0FE;\n",
              "        border: none;\n",
              "        border-radius: 50%;\n",
              "        cursor: pointer;\n",
              "        display: none;\n",
              "        fill: #1967D2;\n",
              "        height: 32px;\n",
              "        padding: 0 0 0 0;\n",
              "        width: 32px;\n",
              "      }\n",
              "\n",
              "      .colab-df-generate:hover {\n",
              "        background-color: #E2EBFA;\n",
              "        box-shadow: 0px 1px 2px rgba(60, 64, 67, 0.3), 0px 1px 3px 1px rgba(60, 64, 67, 0.15);\n",
              "        fill: #174EA6;\n",
              "      }\n",
              "\n",
              "      [theme=dark] .colab-df-generate {\n",
              "        background-color: #3B4455;\n",
              "        fill: #D2E3FC;\n",
              "      }\n",
              "\n",
              "      [theme=dark] .colab-df-generate:hover {\n",
              "        background-color: #434B5C;\n",
              "        box-shadow: 0px 1px 3px 1px rgba(0, 0, 0, 0.15);\n",
              "        filter: drop-shadow(0px 1px 2px rgba(0, 0, 0, 0.3));\n",
              "        fill: #FFFFFF;\n",
              "      }\n",
              "    </style>\n",
              "    <button class=\"colab-df-generate\" onclick=\"generateWithVariable('data')\"\n",
              "            title=\"Generate code using this dataframe.\"\n",
              "            style=\"display:none;\">\n",
              "\n",
              "  <svg xmlns=\"http://www.w3.org/2000/svg\" height=\"24px\"viewBox=\"0 0 24 24\"\n",
              "       width=\"24px\">\n",
              "    <path d=\"M7,19H8.4L18.45,9,17,7.55,7,17.6ZM5,21V16.75L18.45,3.32a2,2,0,0,1,2.83,0l1.4,1.43a1.91,1.91,0,0,1,.58,1.4,1.91,1.91,0,0,1-.58,1.4L9.25,21ZM18.45,9,17,7.55Zm-12,3A5.31,5.31,0,0,0,4.9,8.1,5.31,5.31,0,0,0,1,6.5,5.31,5.31,0,0,0,4.9,4.9,5.31,5.31,0,0,0,6.5,1,5.31,5.31,0,0,0,8.1,4.9,5.31,5.31,0,0,0,12,6.5,5.46,5.46,0,0,0,6.5,12Z\"/>\n",
              "  </svg>\n",
              "    </button>\n",
              "    <script>\n",
              "      (() => {\n",
              "      const buttonEl =\n",
              "        document.querySelector('#id_54bd8f32-a72d-441f-a113-c75f9f689e2c button.colab-df-generate');\n",
              "      buttonEl.style.display =\n",
              "        google.colab.kernel.accessAllowed ? 'block' : 'none';\n",
              "\n",
              "      buttonEl.onclick = () => {\n",
              "        google.colab.notebook.generateWithVariable('data');\n",
              "      }\n",
              "      })();\n",
              "    </script>\n",
              "  </div>\n",
              "\n",
              "    </div>\n",
              "  </div>\n"
            ],
            "application/vnd.google.colaboratory.intrinsic+json": {
              "type": "dataframe",
              "variable_name": "data",
              "summary": "{\n  \"name\": \"data\",\n  \"rows\": 23,\n  \"fields\": [\n    {\n      \"column\": \"nombre\",\n      \"properties\": {\n        \"dtype\": \"string\",\n        \"num_unique_values\": 23,\n        \"samples\": [\n          \"Javier\",\n          \"Andr\\u00e9s\",\n          \"Juan\"\n        ],\n        \"semantic_type\": \"\",\n        \"description\": \"\"\n      }\n    },\n    {\n      \"column\": \"edad\",\n      \"properties\": {\n        \"dtype\": \"number\",\n        \"std\": 9,\n        \"min\": 21,\n        \"max\": 64,\n        \"num_unique_values\": 17,\n        \"samples\": [\n          30,\n          28,\n          31\n        ],\n        \"semantic_type\": \"\",\n        \"description\": \"\"\n      }\n    },\n    {\n      \"column\": \"ciudad\",\n      \"properties\": {\n        \"dtype\": \"category\",\n        \"num_unique_values\": 6,\n        \"samples\": [\n          \"Lima\",\n          \"Arequipa\",\n          \"Puno\"\n        ],\n        \"semantic_type\": \"\",\n        \"description\": \"\"\n      }\n    },\n    {\n      \"column\": \"ingresos\",\n      \"properties\": {\n        \"dtype\": \"number\",\n        \"std\": 1155,\n        \"min\": 1300,\n        \"max\": 5000,\n        \"num_unique_values\": 18,\n        \"samples\": [\n          2500,\n          3800,\n          2900\n        ],\n        \"semantic_type\": \"\",\n        \"description\": \"\"\n      }\n    }\n  ]\n}"
            }
          },
          "metadata": {},
          "execution_count": 3
        }
      ]
    },
    {
      "cell_type": "code",
      "source": [
        "#Obtenemos la suma de los ingresos\n",
        "suma_ingresos = data['ingresos'].sum()\n",
        "\n",
        "print(\"La suma de la columna ingresos es:\", suma_ingresos)"
      ],
      "metadata": {
        "colab": {
          "base_uri": "https://localhost:8080/"
        },
        "id": "VbxTSDZZwWPD",
        "outputId": "e3b04b3e-1a68-4a99-eb0f-70874304345e"
      },
      "execution_count": 7,
      "outputs": [
        {
          "output_type": "stream",
          "name": "stdout",
          "text": [
            "La suma de la columna ingresos es 76180\n"
          ]
        }
      ]
    },
    {
      "cell_type": "code",
      "source": [
        "#Obtenemos el promedio de las edades de las personas de la lista\n",
        "prod_edad = data['edad'].mean()\n",
        "print(\"El promedio de la edad de los trabajadores es:\", int(prod_edad))"
      ],
      "metadata": {
        "colab": {
          "base_uri": "https://localhost:8080/"
        },
        "id": "vWiCAaIfxN3d",
        "outputId": "3d0c48d8-2549-4233-c84e-e99ed551a162"
      },
      "execution_count": 11,
      "outputs": [
        {
          "output_type": "stream",
          "name": "stdout",
          "text": [
            "El promedio de la edad de los trabajadores es: 31\n"
          ]
        }
      ]
    },
    {
      "cell_type": "code",
      "source": [
        "#Obtenemos las personas que trabajan en arequipa\n",
        "arequipa_f = data[data['ciudad'] == 'Arequipa']\n",
        "\n",
        "personas = arequipa_f[['ciudad', 'nombre']]\n",
        "print(personas)\n",
        "print(personas)"
      ],
      "metadata": {
        "colab": {
          "base_uri": "https://localhost:8080/"
        },
        "id": "xUis3sf_xl8s",
        "outputId": "78a270c6-b8c3-4228-f587-65253a4fcef9"
      },
      "execution_count": 23,
      "outputs": [
        {
          "output_type": "stream",
          "name": "stdout",
          "text": [
            "      ciudad    nombre\n",
            "1   Arequipa     María\n",
            "4   Arequipa     Pedro\n",
            "10  Arequipa  Gabriela\n",
            "15  Arequipa    Javier\n",
            "21  Arequipa      José\n"
          ]
        }
      ]
    },
    {
      "cell_type": "code",
      "source": [
        "# Calcular el promedio de ingresos por ciudad\n",
        "promedio_por_ciudad = data.groupby('ciudad')['ingresos'].mean().astype(int)\n",
        "\n",
        "# Mostrar el promedio de ingresos por ciudad\n",
        "print(\"Promedio de ingresos por ciudad (en números enteros):\")\n",
        "print(promedio_por_ciudad)"
      ],
      "metadata": {
        "colab": {
          "base_uri": "https://localhost:8080/"
        },
        "id": "f3seR_V71QUa",
        "outputId": "89680b26-bcd0-46d9-eba4-582704264a3d"
      },
      "execution_count": 26,
      "outputs": [
        {
          "output_type": "stream",
          "name": "stdout",
          "text": [
            "Promedio de ingresos por ciudad (en números enteros):\n",
            "ciudad\n",
            "Arequipa    4040\n",
            "Cusco       2975\n",
            "Juliaca     4990\n",
            "Lima        3366\n",
            "Puno        1300\n",
            "Trujillo    2520\n",
            "Name: ingresos, dtype: int64\n"
          ]
        }
      ]
    },
    {
      "cell_type": "code",
      "source": [
        "# Encontrar la persona más joven\n",
        "persona_mas_joven = data[data['edad'] == data['edad'].min()][['nombre', 'edad']]\n",
        "\n",
        "# Encontrar la persona más mayor\n",
        "persona_mas_mayor = data[data['edad'] == data['edad'].max()][['nombre', 'edad']]\n",
        "\n",
        "# Mostrar los resultados\n",
        "print(\"La persona más joven es:\")\n",
        "print(persona_mas_joven)\n",
        "\n",
        "print(\"\\nLa persona más mayor es:\")\n",
        "print(persona_mas_mayor)"
      ],
      "metadata": {
        "colab": {
          "base_uri": "https://localhost:8080/"
        },
        "id": "TzeHALCa2kb4",
        "outputId": "5f45fc44-66f0-4690-a1e4-997d5d0c1477"
      },
      "execution_count": 29,
      "outputs": [
        {
          "output_type": "stream",
          "name": "stdout",
          "text": [
            "La persona más joven es:\n",
            "     nombre  edad   ciudad  ingresos\n",
            "11  Micaela    21  Juliaca      5000\n",
            "\n",
            "La persona más mayor es:\n",
            "   nombre  edad   ciudad  ingresos\n",
            "5  Leonel    64  Juliaca      4980\n"
          ]
        }
      ]
    },
    {
      "cell_type": "code",
      "source": [
        "# Encontrar la persona más joven\n",
        "persona_mas_joven = data[data['edad'] == data['edad'].min()]\n",
        "\n",
        "# Encontrar la persona más mayor\n",
        "persona_mas_mayor = data[data['edad'] == data['edad'].max()]\n",
        "\n",
        "# Mostrar los resultados\n",
        "print(\"La persona más joven es:\")\n",
        "print(persona_mas_joven)\n",
        "\n",
        "print(\"\\nLa persona más mayor es:\")\n",
        "print(persona_mas_mayor)"
      ],
      "metadata": {
        "colab": {
          "base_uri": "https://localhost:8080/"
        },
        "id": "ytrequMd4AyY",
        "outputId": "ff0fd80f-5a20-4fb4-a947-ddb1a1e80112"
      },
      "execution_count": 30,
      "outputs": [
        {
          "output_type": "stream",
          "name": "stdout",
          "text": [
            "La persona más joven es:\n",
            "     nombre  edad   ciudad  ingresos\n",
            "11  Micaela    21  Juliaca      5000\n",
            "\n",
            "La persona más mayor es:\n",
            "   nombre  edad   ciudad  ingresos\n",
            "5  Leonel    64  Juliaca      4980\n"
          ]
        }
      ]
    },
    {
      "cell_type": "code",
      "source": [
        "personas_cuidad =data.groupby(\"ciudad\")[\"nombre\"].count()\n",
        "print(personas_cuidad)\n",
        "total_general = personas_cuidad.sum()\n",
        "\n",
        "# Mostrar el total general\n",
        "print(f\"\\nTotal general: {total_general}\")"
      ],
      "metadata": {
        "colab": {
          "base_uri": "https://localhost:8080/"
        },
        "id": "R66edWJN45bW",
        "outputId": "dc5d476b-b8f7-4cdf-eacd-d0d7ac5c8bb7"
      },
      "execution_count": 36,
      "outputs": [
        {
          "output_type": "stream",
          "name": "stdout",
          "text": [
            "ciudad\n",
            "Arequipa    5\n",
            "Cusco       4\n",
            "Juliaca     2\n",
            "Lima        6\n",
            "Puno        1\n",
            "Trujillo    5\n",
            "Name: nombre, dtype: int64\n",
            "\n",
            "Total general: 23\n"
          ]
        }
      ]
    },
    {
      "cell_type": "code",
      "source": [
        "# Ordenar el DataFrame por la edad\n",
        "df_ordenado_por_edad = data.sort_values(by='edad', ascending=False)[['nombre', 'edad']]\n",
        "\n",
        "# Mostrar el DataFrame ordenado por edad de mayor a menor\n",
        "print(\"DataFrame ordenado por edad (de mayor a menor):\")\n",
        "print(df_ordenado_por_edad)"
      ],
      "metadata": {
        "colab": {
          "base_uri": "https://localhost:8080/"
        },
        "id": "ePmrbDiV6ARd",
        "outputId": "e36289e6-7d81-43f4-da69-579b127de35a"
      },
      "execution_count": 45,
      "outputs": [
        {
          "output_type": "stream",
          "name": "stdout",
          "text": [
            "DataFrame ordenado por edad (de mayor a menor):\n",
            "       nombre  edad\n",
            "5      Leonel    64\n",
            "22      Willy    55\n",
            "2        Luis    35\n",
            "19    Ricardo    35\n",
            "21       José    34\n",
            "10   Gabriela    33\n",
            "15     Javier    32\n",
            "6       Laura    31\n",
            "17     Manuel    31\n",
            "14     Lorena    30\n",
            "0        Juan    30\n",
            "8       Sofía    29\n",
            "16    Daniela    29\n",
            "1       María    28\n",
            "18   Fernanda    28\n",
            "4       Pedro    28\n",
            "9      Andrés    27\n",
            "13  Valentina    26\n",
            "7      Carlos    25\n",
            "12      Diego    24\n",
            "20      Lucía    23\n",
            "3         Ana    22\n",
            "11    Micaela    21\n"
          ]
        }
      ]
    },
    {
      "cell_type": "markdown",
      "source": [],
      "metadata": {
        "id": "WiOKFKj0s-Oo"
      }
    },
    {
      "cell_type": "code",
      "source": [
        "# Filtrar el DataFrame para incluir solo personas mayores a 30 años\n",
        "mayores_a_30 = data[data['edad'] > 30]\n",
        "\n",
        "# Calcular el promedio de ingresos de las personas mayores a 30 años\n",
        "promedio_ingresos_mayores_a_30 = mayores_a_30['ingresos'].mean().astype(int)\n",
        "\n",
        "# Mostrar el promedio de ingresos de las personas mayores a 30 años\n",
        "print(\"Promedio de ingresos de las personas mayores a 30 años:\", promedio_ingresos_mayores_a_30)"
      ],
      "metadata": {
        "colab": {
          "base_uri": "https://localhost:8080/"
        },
        "id": "yTVgvkWE86RC",
        "outputId": "c507302d-1c5c-41fd-ad87-664cc0c06823"
      },
      "execution_count": 47,
      "outputs": [
        {
          "output_type": "stream",
          "name": "stdout",
          "text": [
            "Promedio de ingresos de las personas mayores a 30 años: 3953\n"
          ]
        }
      ]
    },
    {
      "cell_type": "code",
      "source": [
        "# Calcular el ingreso total por ciudad\n",
        "ingreso_total_por_ciudad = data.groupby('ciudad')['ingresos'].sum()\n",
        "\n",
        "# Mostrar el ingreso total por ciudad\n",
        "print(\"Ingreso total por ciudad:\")\n",
        "print(ingreso_total_por_ciudad)"
      ],
      "metadata": {
        "colab": {
          "base_uri": "https://localhost:8080/"
        },
        "id": "Sh7rQ3UK9UKa",
        "outputId": "42cc3dc9-deba-4b1e-a350-e9737f93ae90"
      },
      "execution_count": 49,
      "outputs": [
        {
          "output_type": "stream",
          "name": "stdout",
          "text": [
            "Ingreso total por ciudad:\n",
            "ciudad\n",
            "Arequipa    20200\n",
            "Cusco       11900\n",
            "Juliaca      9980\n",
            "Lima        20200\n",
            "Puno         1300\n",
            "Trujillo    12600\n",
            "Name: ingresos, dtype: int64\n"
          ]
        }
      ]
    },
    {
      "cell_type": "code",
      "source": [
        "# Ordenar por ingresos en orden descendente\n",
        "df_ordenado_por_ingresos = data.sort_values(by='ingresos', ascending=False)\n",
        "\n",
        "# Obtener la primera fila del DataFrame ordenado, que corresponde a la persona con mayores ingresos\n",
        "persona_con_mayores_ingresos = df_ordenado_por_ingresos.iloc[0]\n",
        "\n",
        "# Mostrar la persona con mayores ingresos\n",
        "print(\"Persona con mayores ingresos:\")\n",
        "print(persona_con_mayores_ingresos)\n"
      ],
      "metadata": {
        "colab": {
          "base_uri": "https://localhost:8080/"
        },
        "id": "5fyLXe9r-99T",
        "outputId": "c47365b0-3c68-4b85-e8cd-1b0d7e542dbe"
      },
      "execution_count": 56,
      "outputs": [
        {
          "output_type": "stream",
          "name": "stdout",
          "text": [
            "Persona con mayores ingresos:\n",
            "nombre       Micaela\n",
            "edad              21\n",
            "ciudad       Juliaca\n",
            "ingresos        5000\n",
            "impuestos      500.0\n",
            "Name: 11, dtype: object\n"
          ]
        }
      ]
    },
    {
      "cell_type": "code",
      "source": [
        "#Histograma\n",
        "import matplotlib.pyplot as plt\n",
        "\n",
        "# Crear un histograma de las edades\n",
        "plt.hist(data['edad'], bins=10)\n",
        "\n",
        "# Establecer el título del gráfico\n",
        "plt.title('Distribución de edades')\n",
        "\n",
        "# Mostrar el gráfico\n",
        "plt.show()\n"
      ],
      "metadata": {
        "colab": {
          "base_uri": "https://localhost:8080/",
          "height": 452
        },
        "id": "mDXoBwHr_GXq",
        "outputId": "c625b1ca-e3e6-4fac-f021-7075fb19c32c"
      },
      "execution_count": 58,
      "outputs": [
        {
          "output_type": "display_data",
          "data": {
            "text/plain": [
              "<Figure size 640x480 with 1 Axes>"
            ],
            "image/png": "[encoded data removed]"
          },
          "metadata": {}
        }
      ]
    },
    {
      "cell_type": "code",
      "source": [
        "# Agregar una columna de impuestos del 10%\n",
        "# Crear una nueva columna llamada 'impuestos'\n",
        "data['impuestos'] = data['ingresos'] * 0.1\n",
        "\n",
        "# Mostrar el DataFrame con la nueva columna\n",
        "print(data)\n"
      ],
      "metadata": {
        "colab": {
          "base_uri": "https://localhost:8080/"
        },
        "id": "v28Z-qLY-n7k",
        "outputId": "aa09b93d-304b-4d40-dea3-86bd282610d8"
      },
      "execution_count": 55,
      "outputs": [
        {
          "output_type": "stream",
          "name": "stdout",
          "text": [
            "       nombre  edad    ciudad  ingresos  impuestos\n",
            "0        Juan    30      Lima      2500      250.0\n",
            "1       María    28  Arequipa      3800      380.0\n",
            "2        Luis    35     Cusco      4800      480.0\n",
            "3         Ana    22  Trujillo      2000      200.0\n",
            "4       Pedro    28  Arequipa      3200      320.0\n",
            "5      Leonel    64   Juliaca      4980      498.0\n",
            "6       Laura    31      Lima      4200      420.0\n",
            "7      Carlos    25     Cusco      1800      180.0\n",
            "8       Sofía    29  Trujillo      2900      290.0\n",
            "9      Andrés    27      Lima      2600      260.0\n",
            "10   Gabriela    33  Arequipa      4000      400.0\n",
            "11    Micaela    21   Juliaca      5000      500.0\n",
            "12      Diego    24     Cusco      3200      320.0\n",
            "13  Valentina    26  Trujillo      3500      350.0\n",
            "14     Lorena    30      Lima      3800      380.0\n",
            "15     Javier    32  Arequipa      5000      500.0\n",
            "16    Daniela    29      Lima      2700      270.0\n",
            "17     Manuel    31  Trujillo      2700      270.0\n",
            "18   Fernanda    28     Cusco      2100      210.0\n",
            "19    Ricardo    35      Lima      4400      440.0\n",
            "20      Lucía    23  Trujillo      1500      150.0\n",
            "21       José    34  Arequipa      4200      420.0\n",
            "22      Willy    55      Puno      1300      130.0\n"
          ]
        }
      ]
    }
  ]
}