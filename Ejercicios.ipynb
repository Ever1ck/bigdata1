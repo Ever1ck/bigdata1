{
  "nbformat": 4,
  "nbformat_minor": 0,
  "metadata": {
    "colab": {
      "provenance": [],
      "authorship_tag": "ABX9TyMotkqLoTslW/8apu/Tmtpx",
      "include_colab_link": true
    },
    "kernelspec": {
      "name": "python3",
      "display_name": "Python 3"
    },
    "language_info": {
      "name": "python"
    }
  },
  "cells": [
    {
      "cell_type": "markdown",
      "metadata": {
        "id": "view-in-github",
        "colab_type": "text"
      },
      "source": [
        "<a href=\"https://colab.research.google.com/github/Ever1ck/bigdata1/blob/main/Ejercicios.ipynb\" target=\"_parent\"><img src=\"https://colab.research.google.com/assets/colab-badge.svg\" alt=\"Open In Colab\"/></a>"
      ]
    },
    {
      "cell_type": "markdown",
      "source": [
        "**Importar NumPy:**"
      ],
      "metadata": {
        "id": "rKVKIYQscu9d"
      }
    },
    {
      "cell_type": "code",
      "execution_count": null,
      "metadata": {
        "id": "WXaEtr_dPKI4"
      },
      "outputs": [],
      "source": [
        "import numpy as np"
      ]
    },
    {
      "cell_type": "markdown",
      "source": [
        "**1. Creación de Arrays:**"
      ],
      "metadata": {
        "id": "HxftYtroPdjp"
      }
    },
    {
      "cell_type": "code",
      "source": [
        "#Crea un array unidimensional (vector) con 5 elementos enteros de tu elección\n",
        "\n",
        "arreglo = np.array([2,4,5,7,9,5])\n",
        "print(arreglo)"
      ],
      "metadata": {
        "colab": {
          "base_uri": "https://localhost:8080/"
        },
        "id": "Ao7g8yGZPfRo",
        "outputId": "a0aab6c4-0147-468f-8b38-7e01ede7ceae"
      },
      "execution_count": null,
      "outputs": [
        {
          "output_type": "stream",
          "name": "stdout",
          "text": [
            "[2 4 5 7 9 5]\n"
          ]
        }
      ]
    },
    {
      "cell_type": "code",
      "source": [
        "#Crea una matriz bidimensional (matriz) de tamaño 3x3 con valores enteros consecutivos.\n",
        "arreglo2 = np.arange(1, 10).reshape(3, 3)\n",
        "\n",
        "print(arreglo2)"
      ],
      "metadata": {
        "colab": {
          "base_uri": "https://localhost:8080/"
        },
        "id": "FLI5bvS8PyKZ",
        "outputId": "2bbc1f37-aa25-4fcb-9142-22650fce6a73"
      },
      "execution_count": 60,
      "outputs": [
        {
          "output_type": "stream",
          "name": "stdout",
          "text": [
            "[[1 2 3]\n",
            " [4 5 6]\n",
            " [7 8 9]]\n"
          ]
        }
      ]
    },
    {
      "cell_type": "code",
      "source": [
        "#Utiliza la función np.zeros() para crear una matriz de tamaño 2x4 llena de ceros.\n",
        "arreglo3 = np.zeros([2,4])\n",
        "print(arreglo3)"
      ],
      "metadata": {
        "colab": {
          "base_uri": "https://localhost:8080/"
        },
        "id": "kgxA3J_VQ1O0",
        "outputId": "1b89f62d-5b78-46fb-ddee-e21ddd124c05"
      },
      "execution_count": null,
      "outputs": [
        {
          "output_type": "stream",
          "name": "stdout",
          "text": [
            "[[0. 0. 0. 0.]\n",
            " [0. 0. 0. 0.]]\n"
          ]
        }
      ]
    },
    {
      "cell_type": "code",
      "source": [
        "#Utiliza la función np.ones() para crear una matriz de tamaño 3x2 llena de unos.\n",
        "arreglo4 = np.ones([3,2])\n",
        "print(arreglo4)"
      ],
      "metadata": {
        "colab": {
          "base_uri": "https://localhost:8080/"
        },
        "id": "IRo-Oh0DROme",
        "outputId": "238e31b1-130e-4868-edbe-c182b7ff9ada"
      },
      "execution_count": null,
      "outputs": [
        {
          "output_type": "stream",
          "name": "stdout",
          "text": [
            "[[1. 1.]\n",
            " [1. 1.]\n",
            " [1. 1.]]\n"
          ]
        }
      ]
    },
    {
      "cell_type": "code",
      "source": [
        "#Utiliza la función np.random.randint() para crear una matriz de tamaño 4x4 con números enteros aleatorios entre 0 y 10.\n",
        "arreglo5 = np.random.randint(0,10, size=[4,4])\n",
        "print(arreglo5)"
      ],
      "metadata": {
        "colab": {
          "base_uri": "https://localhost:8080/"
        },
        "id": "ej14G6T8Rmz1",
        "outputId": "65d43bc4-5a2f-4b6c-de5c-a807e6fdacd4"
      },
      "execution_count": null,
      "outputs": [
        {
          "output_type": "stream",
          "name": "stdout",
          "text": [
            "[[3 5 3 1]\n",
            " [9 2 2 8]\n",
            " [4 3 8 9]\n",
            " [8 1 5 2]]\n"
          ]
        }
      ]
    },
    {
      "cell_type": "markdown",
      "source": [
        "**2. Acceso a Elementos:**"
      ],
      "metadata": {
        "id": "SasHBTHcTCTs"
      }
    },
    {
      "cell_type": "code",
      "source": [
        "#Accede al tercer elemento del vector creado en el paso 1.\n",
        "elemento1 = arreglo[2]\n",
        "print(elemento1)"
      ],
      "metadata": {
        "colab": {
          "base_uri": "https://localhost:8080/"
        },
        "id": "AQ05gumLSMDn",
        "outputId": "72aee092-8834-443e-ff85-f6878e4901c1"
      },
      "execution_count": null,
      "outputs": [
        {
          "output_type": "stream",
          "name": "stdout",
          "text": [
            "5\n"
          ]
        }
      ]
    },
    {
      "cell_type": "code",
      "source": [
        "#Accede al elemento en la segunda fila y segunda columna de la matriz creada en el paso 1.\n",
        "elemento2 = arreglo2[1][1]\n",
        "print(elemento2)"
      ],
      "metadata": {
        "colab": {
          "base_uri": "https://localhost:8080/"
        },
        "id": "mPCZhV60Tg7t",
        "outputId": "fe0e18c5-37c2-47d6-8ede-4de4eedc8ab3"
      },
      "execution_count": null,
      "outputs": [
        {
          "output_type": "stream",
          "name": "stdout",
          "text": [
            "5\n"
          ]
        }
      ]
    },
    {
      "cell_type": "markdown",
      "source": [
        "**3. Propiedades de los Arrays:**"
      ],
      "metadata": {
        "id": "tHUE8FspT6Tl"
      }
    },
    {
      "cell_type": "code",
      "source": [
        "#Utiliza el atributo ndim para verificar la cantidad de dimensiones de la matriz creada en el paso 1.\n",
        "print(arreglo2.ndim)"
      ],
      "metadata": {
        "colab": {
          "base_uri": "https://localhost:8080/"
        },
        "id": "Iqd3zUL8T2zd",
        "outputId": "5ae37d5f-9c96-4c65-87f1-55413061647e"
      },
      "execution_count": null,
      "outputs": [
        {
          "output_type": "stream",
          "name": "stdout",
          "text": [
            "2\n"
          ]
        }
      ]
    },
    {
      "cell_type": "code",
      "source": [
        "#Utiliza el atributo shape para obtener la forma de la matriz creada en el paso 1.\n",
        "print(arreglo2.shape)"
      ],
      "metadata": {
        "colab": {
          "base_uri": "https://localhost:8080/"
        },
        "id": "vJwUcXzQUVx4",
        "outputId": "daeb0b6e-83c5-4abb-dfd3-0d64976d3be3"
      },
      "execution_count": null,
      "outputs": [
        {
          "output_type": "stream",
          "name": "stdout",
          "text": [
            "(3, 3)\n"
          ]
        }
      ]
    },
    {
      "cell_type": "code",
      "source": [
        "#Utiliza el atributo size para obtener el tamaño total de la matriz creada en el paso 1.\n",
        "print(arreglo2.size)"
      ],
      "metadata": {
        "colab": {
          "base_uri": "https://localhost:8080/"
        },
        "id": "Xrm7LTOsUe0I",
        "outputId": "e304ed01-2ffa-4439-f94d-98ab5feaff15"
      },
      "execution_count": null,
      "outputs": [
        {
          "output_type": "stream",
          "name": "stdout",
          "text": [
            "9\n"
          ]
        }
      ]
    },
    {
      "cell_type": "markdown",
      "source": [
        "**4. Operaciones Básicas:**"
      ],
      "metadata": {
        "id": "2w4pLuHBUotr"
      }
    },
    {
      "cell_type": "code",
      "source": [
        "#Suma dos matrices de tamaño 2x2 con valores aleatorios entre 0 y 10.\n",
        "matriz1 = np.random.randint(0,10, size=[2,2])\n",
        "matriz2 = np.random.randint(0,10, size=[2,2])\n",
        "print(matriz1)\n",
        "print(matriz2)\n",
        "sumam = matriz1 + matriz2\n",
        "print(\"la suma de la matriz 1 y 2 es: \",sumam)"
      ],
      "metadata": {
        "colab": {
          "base_uri": "https://localhost:8080/"
        },
        "id": "mi6HiBC2UsJj",
        "outputId": "297e240f-0115-46c4-8028-e78bf420f7a5"
      },
      "execution_count": null,
      "outputs": [
        {
          "output_type": "stream",
          "name": "stdout",
          "text": [
            "[[8 8]\n",
            " [8 2]]\n",
            "[[2 6]\n",
            " [5 3]]\n",
            "la suma de la matriz 1 y 2 es:  [[10 14]\n",
            " [13  5]]\n"
          ]
        }
      ]
    },
    {
      "cell_type": "code",
      "source": [
        "#Multiplica dos matrices de tamaño 3x2 y 2x3 respectivamente.\n",
        "matriz3 = np.random.randint(0,10, size=[3,2])\n",
        "matriz4 = np.random.randint(0,10, size=[3,2])\n",
        "matriz5 = np.random.randint(0,10, size=[2,3])\n",
        "matriz6 = np.random.randint(0,10, size=[2,3])\n",
        "print(matriz3)\n",
        "print(matriz4)\n",
        "multi1 = matriz3 * matriz4\n",
        "multi2 = matriz5 * matriz6\n",
        "\n",
        "print(\"la multiplicacion de la matriz 3 y 4 es: \",multi1)\n",
        "print(\"la multiplicacion de la matriz 5 y 6 es: \", multi2)\n"
      ],
      "metadata": {
        "colab": {
          "base_uri": "https://localhost:8080/"
        },
        "id": "bmbrrRxYVX9e",
        "outputId": "9d4506f4-6dc9-461c-9f8c-d2c51496a74f"
      },
      "execution_count": null,
      "outputs": [
        {
          "output_type": "stream",
          "name": "stdout",
          "text": [
            "[[6 4]\n",
            " [5 4]\n",
            " [9 9]]\n",
            "[[2 1]\n",
            " [0 3]\n",
            " [5 7]]\n",
            "la multiplicacion de la matriz 3 y 4 es:  [[12  4]\n",
            " [ 0 12]\n",
            " [45 63]]\n",
            "la multiplicacion de la matriz 5 y 6 es:  [[ 8  9  0]\n",
            " [49  0 81]]\n"
          ]
        }
      ]
    },
    {
      "cell_type": "code",
      "source": [
        "#Divide una matriz de tamaño 2x2 por otra matriz de tamaño 2x2,\n",
        "#utilizando tanto la división por elementos como la multiplicación por la inversa.\n",
        "\n",
        "matriz7 = np.random.randint(0,10, size=[2,2])\n",
        "matriz8 = np.random.randint(0,10, size=[2,2])\n",
        "division1 = matriz7 / matriz8\n",
        "print(\"la division es: \", division1)\n",
        "\n",
        "inversa = np.linalg.inv(matriz8)\n",
        "multiplicacion_inversa = np.dot(matriz7, matriz8)\n",
        "print(\"la multiplicacion inversa es: \", multiplicacion_inversa)"
      ],
      "metadata": {
        "colab": {
          "base_uri": "https://localhost:8080/"
        },
        "id": "yMo4vgbkVepz",
        "outputId": "be2b6b28-7b93-449f-e569-a54d572150d1"
      },
      "execution_count": 41,
      "outputs": [
        {
          "output_type": "stream",
          "name": "stdout",
          "text": [
            "la division es:  [[0.25 1.  ]\n",
            " [0.   3.  ]]\n",
            "la multiplicacion inversa es:  [[76 16]\n",
            " [27  3]]\n"
          ]
        }
      ]
    },
    {
      "cell_type": "markdown",
      "source": [
        "**5. Manipulación de Arrays:**"
      ],
      "metadata": {
        "id": "aHsWXCmdXANk"
      }
    },
    {
      "cell_type": "code",
      "source": [
        "#Utiliza la función reshape() para convertir el vector creado en el paso 1\n",
        "#en una matriz de tamaño 9x1.\n",
        "reshape_arreglo = arreglo2.reshape([9,1])\n",
        "print(reshape_arreglo)"
      ],
      "metadata": {
        "colab": {
          "base_uri": "https://localhost:8080/"
        },
        "id": "IYDpZy3PZBrt",
        "outputId": "eefce5a3-b1de-418b-dbac-6c920fe4cfb9"
      },
      "execution_count": 42,
      "outputs": [
        {
          "output_type": "stream",
          "name": "stdout",
          "text": [
            "[[1]\n",
            " [2]\n",
            " [3]\n",
            " [4]\n",
            " [5]\n",
            " [6]\n",
            " [7]\n",
            " [8]\n",
            " [9]]\n"
          ]
        }
      ]
    },
    {
      "cell_type": "code",
      "source": [
        "#Utiliza la función flatten() para convertir la matriz creada en el paso 1\n",
        "#en un vector unidimensional.\n",
        "flatten_arreglo = arreglo2.flatten()\n",
        "print(flatten_arreglo)"
      ],
      "metadata": {
        "colab": {
          "base_uri": "https://localhost:8080/"
        },
        "id": "uAMHt8w2ZBkT",
        "outputId": "e60a736c-d7b1-43a7-867b-e39ef84e2896"
      },
      "execution_count": 43,
      "outputs": [
        {
          "output_type": "stream",
          "name": "stdout",
          "text": [
            "[1 2 3 4 5 6 7 8 9]\n"
          ]
        }
      ]
    },
    {
      "cell_type": "markdown",
      "source": [
        "**6. Operaciones Estadísticas:**"
      ],
      "metadata": {
        "id": "wJoxE1lDZxKM"
      }
    },
    {
      "cell_type": "code",
      "source": [
        "#Calcula la suma de todos los elementos de la matriz creada en el paso 1.\n",
        "suma_elementos = np.sum(arreglo2)\n",
        "print(suma_elementos)"
      ],
      "metadata": {
        "colab": {
          "base_uri": "https://localhost:8080/"
        },
        "id": "vOJl4tNxZBaf",
        "outputId": "c5c9dc02-45ab-4449-a78f-3cbc256b5928"
      },
      "execution_count": 45,
      "outputs": [
        {
          "output_type": "stream",
          "name": "stdout",
          "text": [
            "45\n"
          ]
        }
      ]
    },
    {
      "cell_type": "code",
      "source": [
        "#Calcula la media de cada fila de la matriz creada en el paso 1.\n",
        "media = arreglo2[1].mean()\n",
        "print(media)"
      ],
      "metadata": {
        "colab": {
          "base_uri": "https://localhost:8080/"
        },
        "id": "Ipx0dASdZyRz",
        "outputId": "4be9aa92-39fe-49c8-a15e-2c2c2f6bd50f"
      },
      "execution_count": 50,
      "outputs": [
        {
          "output_type": "stream",
          "name": "stdout",
          "text": [
            "5.0\n"
          ]
        }
      ]
    },
    {
      "cell_type": "markdown",
      "source": [
        "**7. Indexación y Rebanado:**"
      ],
      "metadata": {
        "id": "AN3yqyECanda"
      }
    },
    {
      "cell_type": "code",
      "source": [
        "#Imprime la primera fila de la matriz creada en el paso 1.\n",
        "print(arreglo2[0])"
      ],
      "metadata": {
        "colab": {
          "base_uri": "https://localhost:8080/"
        },
        "id": "0T1Dsfvkaj90",
        "outputId": "d2115df9-b8af-4344-f2f1-b7235420a75c"
      },
      "execution_count": 54,
      "outputs": [
        {
          "output_type": "stream",
          "name": "stdout",
          "text": [
            "[1 2 3]\n"
          ]
        }
      ]
    },
    {
      "cell_type": "code",
      "source": [
        "#Imprime las primeras dos columnas de la matriz creada en el paso 1.\n",
        "print(arreglo2[:, :2])"
      ],
      "metadata": {
        "colab": {
          "base_uri": "https://localhost:8080/"
        },
        "id": "QGUCCFhjaqhd",
        "outputId": "c3396e3f-8100-4d7a-8b82-95adab4e4dee"
      },
      "execution_count": 55,
      "outputs": [
        {
          "output_type": "stream",
          "name": "stdout",
          "text": [
            "[[1 2]\n",
            " [4 5]\n",
            " [7 8]]\n"
          ]
        }
      ]
    },
    {
      "cell_type": "markdown",
      "source": [
        "**8. Ejercicio Adicional:**"
      ],
      "metadata": {
        "id": "4JemC0zXbHQ-"
      }
    },
    {
      "cell_type": "code",
      "source": [
        "#Define una matriz de tamaño 4x4 con valores aleatorios.\n",
        "matriz4x4 = np.random.rand(4, 4)\n",
        "print(matriz4x4)"
      ],
      "metadata": {
        "colab": {
          "base_uri": "https://localhost:8080/"
        },
        "id": "uAzW-A0ebIZ3",
        "outputId": "40026e9d-bc61-4548-d21e-dcbded5806ca"
      },
      "execution_count": 58,
      "outputs": [
        {
          "output_type": "stream",
          "name": "stdout",
          "text": [
            "[[0.72253624 0.45204075 0.17772836 0.08785402]\n",
            " [0.0695596  0.53582081 0.18929391 0.65092406]\n",
            " [0.94894491 0.19038511 0.41151431 0.62993275]\n",
            " [0.97654268 0.72123789 0.44407894 0.88504611]]\n"
          ]
        }
      ]
    },
    {
      "cell_type": "code",
      "source": [
        "#Escribe un código para encontrar el valor máximo y mínimo de la matriz, así como su posición.\n",
        "# Imprimimos la matriz\n",
        "print(\"Matriz:\")\n",
        "print(matriz4x4)\n",
        "\n",
        "# Encontramos el valor máximo y su posición\n",
        "max_value = np.max(matriz4x4)\n",
        "max_position = np.unravel_index(np.argmax(matriz4x4), matriz4x4.shape)\n",
        "\n",
        "# Encontramos el valor mínimo y su posición\n",
        "min_value = np.min(matriz4x4)\n",
        "min_position = np.unravel_index(np.argmin(matriz4x4), matriz4x4.shape)\n",
        "\n",
        "# Imprimimos los resultados\n",
        "print(\"\\nValor máximo: \", max_value)\n",
        "print(\"Posición del valor máximo: \", max_position)\n",
        "\n",
        "print(\"\\nValor mínimo: \", min_value)\n",
        "print(\"Posición del valor mínimo: \", min_position)"
      ],
      "metadata": {
        "colab": {
          "base_uri": "https://localhost:8080/"
        },
        "id": "Nf2kErbsbJqn",
        "outputId": "db243de8-b2dc-4e2b-e3f3-d2fb8a15bbf6"
      },
      "execution_count": 59,
      "outputs": [
        {
          "output_type": "stream",
          "name": "stdout",
          "text": [
            "Matriz:\n",
            "[[0.72253624 0.45204075 0.17772836 0.08785402]\n",
            " [0.0695596  0.53582081 0.18929391 0.65092406]\n",
            " [0.94894491 0.19038511 0.41151431 0.62993275]\n",
            " [0.97654268 0.72123789 0.44407894 0.88504611]]\n",
            "\n",
            "Valor máximo:  0.9765426838104997\n",
            "Posición del valor máximo:  (3, 0)\n",
            "\n",
            "Valor mínimo:  0.06955960354335955\n",
            "Posición del valor mínimo:  (1, 0)\n"
          ]
        }
      ]
    }
  ]
}